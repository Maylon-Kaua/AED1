{
 "cells": [
  {
   "cell_type": "code",
   "execution_count": null,
   "id": "b52340f2-1624-4770-a014-5940e56cb7ea",
   "metadata": {},
   "outputs": [],
   "source": [
    "print (\"Olá Mundo\")"
   ]
  },
  {
   "cell_type": "markdown",
   "id": "aa513db6-72cc-475d-a7c6-cb753a06e4c6",
   "metadata": {},
   "source": [
    "5+5"
   ]
  },
  {
   "cell_type": "code",
   "execution_count": null,
   "id": "155c3101-8ba7-4577-917a-a072404d7726",
   "metadata": {},
   "outputs": [],
   "source": [
    "5+5"
   ]
  },
  {
   "cell_type": "code",
   "execution_count": null,
   "id": "41c22f54-5b5c-43b4-9b9a-500ce6d9f583",
   "metadata": {},
   "outputs": [],
   "source": [
    "nome = \"Maylon\"\n",
    "nome"
   ]
  },
  {
   "cell_type": "code",
   "execution_count": null,
   "id": "63da4adf-1393-4144-b5dd-ab3ec4871a42",
   "metadata": {},
   "outputs": [],
   "source": [
    "x = 45\n",
    "y = 23\n",
    "\n",
    "soma = x + y\n",
    "\n",
    "type(soma)\n",
    "int\n",
    "\n",
    "\n",
    "x / y\n",
    "x // y"
   ]
  },
  {
   "cell_type": "code",
   "execution_count": null,
   "id": "2d16afd8-2cf4-42f4-a25f-f26f0ebc0af3",
   "metadata": {},
   "outputs": [],
   "source": [
    "x or y"
   ]
  },
  {
   "cell_type": "code",
   "execution_count": null,
   "id": "2afc8fb9-d302-4bbf-94cb-7bd14ef5df11",
   "metadata": {},
   "outputs": [],
   "source": [
    "x = true\n",
    "y = false"
   ]
  },
  {
   "cell_type": "code",
   "execution_count": null,
   "id": "507136ed-c07b-4e59-8307-2377ff3b4df4",
   "metadata": {},
   "outputs": [],
   "source": [
    " 1000000.00000000  -->  1_000_000.0"
   ]
  },
  {
   "cell_type": "code",
   "execution_count": null,
   "id": "cc74bed0-253a-4f60-9f7c-70dae46936de",
   "metadata": {},
   "outputs": [],
   "source": []
  }
 ],
 "metadata": {
  "kernelspec": {
   "display_name": "Python 3 (ipykernel)",
   "language": "python",
   "name": "python3"
  },
  "language_info": {
   "codemirror_mode": {
    "name": "ipython",
    "version": 3
   },
   "file_extension": ".py",
   "mimetype": "text/x-python",
   "name": "python",
   "nbconvert_exporter": "python",
   "pygments_lexer": "ipython3",
   "version": "3.12.4"
  }
 },
 "nbformat": 4,
 "nbformat_minor": 5
}
