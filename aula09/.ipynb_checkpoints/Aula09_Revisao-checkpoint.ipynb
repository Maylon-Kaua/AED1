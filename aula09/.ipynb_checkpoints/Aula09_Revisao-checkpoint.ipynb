{
 "cells": [
  {
   "cell_type": "markdown",
   "metadata": {},
   "source": [
    "![Algoritmos e Estrutura de Dados I](AED1_banner.jpg)"
   ]
  },
  {
   "cell_type": "markdown",
   "metadata": {},
   "source": [
    "## <font color='blue'>Algoritmos e Estrutura de Dados I</font>\n",
    "## <font color='blue'>Aula 9 -  Revisão</font>"
   ]
  },
  {
   "cell_type": "code",
   "execution_count": null,
   "metadata": {},
   "outputs": [],
   "source": [
    "# Versão da Linguagem Python\n",
    "from platform import python_version\n",
    "print('Versão da Linguagem Python Usada Neste Jupyter Notebook:', python_version())"
   ]
  },
  {
   "cell_type": "markdown",
   "metadata": {},
   "source": [
    "## Estrutura sequencial"
   ]
  },
  {
   "cell_type": "markdown",
   "metadata": {},
   "source": [
    "Escreva um programa em Python que solicite ao usuário o valor de dois números, calcule e exiba a soma deles."
   ]
  },
  {
   "cell_type": "code",
   "execution_count": 1,
   "metadata": {},
   "outputs": [
    {
     "name": "stdin",
     "output_type": "stream",
     "text": [
      "Insira um número 3\n",
      "Insira um segundo número 3\n"
     ]
    },
    {
     "name": "stdout",
     "output_type": "stream",
     "text": [
      "a soma dos dois números é 6\n"
     ]
    }
   ],
   "source": [
    "num_1 = int(input(\"Insira um número\"))\n",
    "num_2 = int(input(\"Insira um segundo número\"))\n",
    "num_3 = num_1 + num_2\n",
    "print(f\"a soma dos dois números é {num_3}\")"
   ]
  },
  {
   "attachments": {},
   "cell_type": "markdown",
   "metadata": {},
   "source": [
    "Escreva um programa em Python que solicite ao usuário a temperatura em graus Celsius e converta para Fahrenheit. A fórmula para conversão é F = C * 9/5 + 32.\n"
   ]
  },
  {
   "cell_type": "code",
   "execution_count": 2,
   "metadata": {},
   "outputs": [
    {
     "name": "stdin",
     "output_type": "stream",
     "text": [
      "Quantos graus celcius você deseja converter ? 50\n"
     ]
    },
    {
     "name": "stdout",
     "output_type": "stream",
     "text": [
      "50.0 graus celcius, convertido para fahrenheit é 122.0F\n"
     ]
    }
   ],
   "source": [
    "graus_c = float(input(\"Quantos graus celcius você deseja converter ?\"))\n",
    "graus_f = (graus_c * 9/5) + 32\n",
    "print(f\"{graus_c} graus celcius, convertido para fahrenheit é {graus_f}F\")"
   ]
  },
  {
   "cell_type": "markdown",
   "metadata": {},
   "source": [
    "## Estrutura Condicional"
   ]
  },
  {
   "cell_type": "markdown",
   "metadata": {},
   "source": [
    "Escreva um programa em Python que solicite ao usuário um número e verifique se ele é positivo, negativo ou zero. Exiba a mensagem correspondente.\n"
   ]
  },
  {
   "cell_type": "code",
   "execution_count": 10,
   "metadata": {},
   "outputs": [
    {
     "name": "stdin",
     "output_type": "stream",
     "text": [
      "Insira um numero que deseja verificar 7\n"
     ]
    },
    {
     "name": "stdout",
     "output_type": "stream",
     "text": [
      "7 é positivo\n"
     ]
    }
   ],
   "source": [
    "num_1 = int(input(\"Insira um numero que deseja verificar\"))\n",
    "if (num_1 > 0):\n",
    "    print(f\"{num_1} é positivo\")\n",
    "elif (num_1 < 0):\n",
    "    print(f\"{num_1} é negativo\")\n",
    "else:\n",
    "    print(f\"{num_1} é zero\")"
   ]
  },
  {
   "cell_type": "markdown",
   "metadata": {},
   "source": [
    "Escreva um programa em Python que solicite ao usuário três números e determine qual é o maior entre eles.\n"
   ]
  },
  {
   "cell_type": "code",
   "execution_count": 20,
   "metadata": {},
   "outputs": [
    {
     "name": "stdin",
     "output_type": "stream",
     "text": [
      "Insira um numero que deseja verificar 3\n",
      "insira outro número 3\n",
      "insira um terceiro número 3\n"
     ]
    },
    {
     "name": "stdout",
     "output_type": "stream",
     "text": [
      "os números são iguais\n"
     ]
    }
   ],
   "source": [
    "num_1 = int(input(\"Insira um numero que deseja verificar\"))\n",
    "num_2 = int(input(\"insira outro número\"))\n",
    "num_3 = int(input(\"insira um terceiro número\"))\n",
    "if (num_1 > num_3) and (num_1 > num_2):\n",
    "    print(f\"o primeiro número é o maior\")\n",
    "elif (num_2 > num_1) and (num_2 > num_3):\n",
    "    print(f\"o segundo número é o maior\")\n",
    "elif (num_3 > num_1) and (num_3 > num_2):\n",
    "    print(f\"o terceiro número é o maior\")\n",
    "else:\n",
    "    print(f\"os números são iguais\")\n"
   ]
  },
  {
   "cell_type": "markdown",
   "metadata": {},
   "source": [
    "## Estrutura de Repetição"
   ]
  },
  {
   "cell_type": "markdown",
   "metadata": {},
   "source": [
    "Escreva um programa em Python que exiba todos os números de 1 a 10.\n"
   ]
  },
  {
   "cell_type": "code",
   "execution_count": 9,
   "metadata": {},
   "outputs": [
    {
     "name": "stdin",
     "output_type": "stream",
     "text": [
      "digite um valor de 0 a 9 10\n"
     ]
    },
    {
     "name": "stdout",
     "output_type": "stream",
     "text": [
      "digite um valor entre 1 e 9!\n"
     ]
    },
    {
     "name": "stdin",
     "output_type": "stream",
     "text": [
      "digite um valor de 0 a 9 9\n"
     ]
    },
    {
     "name": "stdout",
     "output_type": "stream",
     "text": [
      "1 x 9 = 9\n",
      "2 x 9 = 18\n",
      "3 x 9 = 27\n",
      "4 x 9 = 36\n",
      "5 x 9 = 45\n",
      "6 x 9 = 54\n",
      "7 x 9 = 63\n",
      "8 x 9 = 72\n",
      "9 x 9 = 81\n",
      "10 x 9 = 90\n"
     ]
    }
   ],
   "source": [
    "while True:\n",
    "    num_1 = input(\"digite um valor de 0 a 9\")\n",
    "    if num_1.isnumeric():\n",
    "        numero = int(num_1)\n",
    "        if numero>=1 and numero <=9:\n",
    "            break\n",
    "        else:\n",
    "            print(\"digite um valor entre 1 e 9!\")\n",
    "    else:\n",
    "        print(\"o que foi digitado não é um número! repita!\")\n",
    "\n",
    "\n",
    "for i in range(1, 11):\n",
    "        print(f\"{i} x {numero} = {i*numero}\")\n",
    "              "
   ]
  },
  {
   "cell_type": "markdown",
   "metadata": {},
   "source": [
    "Escreva um programa em Python que solicite ao usuário um número inteiro positivo e calcule o fatorial desse número.\n"
   ]
  },
  {
   "cell_type": "code",
   "execution_count": null,
   "metadata": {},
   "outputs": [],
   "source": [
    "while True:\n",
    "    num_1 = input(\"digite um valor de 0 a 9\")\n",
    "    if num_1.isnumeric():\n",
    "        numero = int(num_1)\n",
    "        if numero>=1 and numero <=9:\n",
    "            break\n",
    "        else:\n",
    "            print(\"digite um valor entre 1 e 9!\")\n",
    "    else:\n",
    "        print(\"o que foi digitado não é um número! repita!\")\n",
    "\n",
    "\n",
    "              \n",
    "fatorial = 1\n",
    "for i in range(1, numero+1):\n",
    "    fatorial *= i\n",
    "print(f\"O fatorial de {numero} é igual a {fatorial}\")\n"
   ]
  },
  {
   "cell_type": "markdown",
   "metadata": {},
   "source": [
    "## Geral"
   ]
  },
  {
   "cell_type": "markdown",
   "metadata": {},
   "source": [
    "Você é um cientista de dados e precisa analisar as notas de um conjunto de estudantes em uma disciplina. Você deverá escrever um programa em Python que solicite ao usuário o número de estudantes e, em seguida, as notas desses estudantes. O programa deve calcular e exibir:\n",
    "\n",
    "- A média das notas.\n",
    "- A maior e a menor nota.\n",
    "- O número de estudantes aprovados (nota maior ou igual a 6) e reprovados (nota menor que 6).\n",
    "\n",
    "Regras:\n",
    "\n",
    "- Utilize variáveis simples para armazenar as informações.\n",
    "- Utilize estruturas de repetição para coletar as notas dos estudantes.\n",
    "- Utilize estruturas condicionais para determinar o status de aprovação dos estudantes."
   ]
  },
  {
   "cell_type": "code",
   "execution_count": 11,
   "metadata": {},
   "outputs": [
    {
     "name": "stdin",
     "output_type": "stream",
     "text": [
      "digite o total de estudantes 5\n",
      "entre com a nota do aluno 1 7\n",
      "entre com a nota do aluno 2 7.1\n",
      "entre com a nota do aluno 3 10\n",
      "entre com a nota do aluno 4 3\n",
      "entre com a nota do aluno 5 8\n"
     ]
    },
    {
     "name": "stdout",
     "output_type": "stream",
     "text": [
      "A média das notas é igual a: 7.0200000000000005\n",
      "A menor nota é igual a: 3.0\n",
      "A maior nota é igual a: 10.0\n",
      "O número de aprovados é igual a: 4\n",
      "O número de reprovados é igual a: 1\n"
     ]
    }
   ],
   "source": [
    "qtd_alunos = int(input(\"digite o total de estudantes\"))\n",
    "soma_notas = 0\n",
    "maior = 0\n",
    "menor= 10\n",
    "qtd_aprov = 0\n",
    "qtd_reprov = 0\n",
    "for i in range(qtd_alunos):\n",
    "    nota = float(input(f\"entre com a nota do aluno {i+1}\"))\n",
    "    if nota >= 6:\n",
    "     qtd_aprov += 1\n",
    "    else:\n",
    "        qtd_reprov += 1\n",
    "    if nota > maior:\n",
    "        maior = nota\n",
    "    if nota < menor:\n",
    "        menor = nota\n",
    "    soma_notas += nota\n",
    "\n",
    "media = soma_notas / qtd_alunos\n",
    "print(f\"A média das notas é igual a: {media}\")\n",
    "print(f\"A menor nota é igual a: {menor}\")\n",
    "print(f\"A maior nota é igual a: {maior}\")\n",
    "print(f\"O número de aprovados é igual a: {qtd_aprov}\")\n",
    "print(f\"O número de reprovados é igual a: {qtd_reprov}\")\n"
   ]
  },
  {
   "cell_type": "markdown",
   "metadata": {},
   "source": [
    "Faça um programa que receba um número inteiro positivo e transforme esse número para binário."
   ]
  },
  {
   "cell_type": "code",
   "execution_count": 19,
   "metadata": {},
   "outputs": [
    {
     "name": "stdin",
     "output_type": "stream",
     "text": [
      "digite um valor de base 10 131\n"
     ]
    },
    {
     "name": "stdout",
     "output_type": "stream",
     "text": [
      "O número 131 em binario é:  10000011\n"
     ]
    }
   ],
   "source": [
    "numero = int(input(\"digite um valor de base 10\"))\n",
    "b = ''\n",
    "n = numero\n",
    "if numero == 0:\n",
    "    b = '0'\n",
    "else:\n",
    "    while numero > 0:\n",
    "        resto = numero % 2\n",
    "        digito = str(resto)\n",
    "        b = digito + b\n",
    "        numero = numero // 2\n",
    "\n",
    "print(f\"O número {n} em binario é: \", b)"
   ]
  },
  {
   "cell_type": "markdown",
   "metadata": {},
   "source": [
    "## Fim da Aula 9"
   ]
  }
 ],
 "metadata": {
  "kernelspec": {
   "display_name": "Python 3 (ipykernel)",
   "language": "python",
   "name": "python3"
  },
  "language_info": {
   "codemirror_mode": {
    "name": "ipython",
    "version": 3
   },
   "file_extension": ".py",
   "mimetype": "text/x-python",
   "name": "python",
   "nbconvert_exporter": "python",
   "pygments_lexer": "ipython3",
   "version": "3.12.4"
  }
 },
 "nbformat": 4,
 "nbformat_minor": 4
}
